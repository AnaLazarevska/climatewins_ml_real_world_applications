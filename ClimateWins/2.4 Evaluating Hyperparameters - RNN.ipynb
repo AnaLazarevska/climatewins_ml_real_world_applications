{
 "cells": [
  {
   "cell_type": "markdown",
   "id": "959095bc-cc68-454d-8092-4db58a76debc",
   "metadata": {},
   "source": [
    "# 2.4 Evaluating Hyperparameters - RNN"
   ]
  },
  {
   "cell_type": "markdown",
   "id": "d7c3c3c7-d814-4ea2-8305-96edd1617579",
   "metadata": {},
   "source": [
    "## Contents:\n",
    "\n",
    "1. Import Libraries\n",
    "2. Import Datasets\n",
    "3. Data Wrangling\n",
    "4. Reshaping the Model\n",
    "5. Data Split\n",
    "6. Simple RNN Model"
   ]
  },
  {
   "cell_type": "markdown",
   "id": "a379948e-5ea0-4f6b-bfd3-e3cef2cc864b",
   "metadata": {},
   "source": [
    "## 1. Import Libraries"
   ]
  },
  {
   "cell_type": "code",
   "execution_count": 141,
   "id": "23018de3-e92b-408a-a6db-be170f12590d",
   "metadata": {},
   "outputs": [],
   "source": [
    "import pandas as pd\n",
    "import numpy as np\n",
    "import seaborn as sns\n",
    "import os\n",
    "import operator\n",
    "import matplotlib.pyplot as plt\n",
    "import tensorflow as tf\n",
    "from tensorflow import keras\n",
    "from tensorflow.keras import layers\n",
    "from keras.models import Sequential\n",
    "from numpy import unique\n",
    "from keras.models import Sequential\n",
    "from keras.layers import LSTM\n",
    "from keras.layers import Dense, Dropout\n",
    "from tensorflow.keras.layers import SimpleRNN"
   ]
  },
  {
   "cell_type": "code",
   "execution_count": 142,
   "id": "45d132ba-7553-4a50-bbaf-3e4572bf0f44",
   "metadata": {},
   "outputs": [],
   "source": [
    "# import additional libraries\n",
    "\n",
    "from sklearn import datasets\n",
    "from sklearn import metrics\n",
    "from sklearn.neural_network import MLPClassifier\n",
    "from sklearn.model_selection import train_test_split\n",
    "from sklearn.metrics import multilabel_confusion_matrix, accuracy_score, confusion_matrix, ConfusionMatrixDisplay\n",
    "from sklearn.preprocessing import StandardScaler\n",
    "\n",
    "from sklearn.datasets import make_classification\n",
    "from sklearn.model_selection import train_test_split\n",
    "from sklearn.svm import SVC"
   ]
  },
  {
   "cell_type": "markdown",
   "id": "b05ca9f5-b0d4-4118-9776-47edaa7e08fe",
   "metadata": {},
   "source": [
    "## 2. Import Datasets"
   ]
  },
  {
   "cell_type": "code",
   "execution_count": 144,
   "id": "7bdf6db0-0aa8-4887-9dea-2b909cc41cc8",
   "metadata": {},
   "outputs": [],
   "source": [
    "# Define path to dataset\n",
    "path = r'/Users/analazarevska/Documents/CAREER FOUNDRY/Data Analytics Program/Machine Learning/A1, Basics of Machine Learning for Analysts/ClimateWins/Data Sets/'\n",
    "\n",
    "# Import dataset\n",
    "df_station = pd.read_csv(os.path.join(path, 'df_cleaned_with_date.csv'))\n",
    "df_pleasant = pd.read_csv(os.path.join(path, 'df_pleasant_with_date.csv'))"
   ]
  },
  {
   "cell_type": "markdown",
   "id": "2dff54ee-5b10-417f-aac7-85b999ed0d08",
   "metadata": {},
   "source": [
    "##  3. Data Wrangling"
   ]
  },
  {
   "cell_type": "code",
   "execution_count": 146,
   "id": "be5a5040-209e-43db-89d7-18862cc064be",
   "metadata": {},
   "outputs": [
    {
     "data": {
      "text/html": [
       "<div>\n",
       "<style scoped>\n",
       "    .dataframe tbody tr th:only-of-type {\n",
       "        vertical-align: middle;\n",
       "    }\n",
       "\n",
       "    .dataframe tbody tr th {\n",
       "        vertical-align: top;\n",
       "    }\n",
       "\n",
       "    .dataframe thead th {\n",
       "        text-align: right;\n",
       "    }\n",
       "</style>\n",
       "<table border=\"1\" class=\"dataframe\">\n",
       "  <thead>\n",
       "    <tr style=\"text-align: right;\">\n",
       "      <th></th>\n",
       "      <th>DATE</th>\n",
       "      <th>MONTH</th>\n",
       "      <th>BASEL_cloud_cover</th>\n",
       "      <th>BASEL_humidity</th>\n",
       "      <th>BASEL_pressure</th>\n",
       "      <th>BASEL_global_radiation</th>\n",
       "      <th>BASEL_precipitation</th>\n",
       "      <th>BASEL_sunshine</th>\n",
       "      <th>BASEL_temp_mean</th>\n",
       "      <th>BASEL_temp_min</th>\n",
       "      <th>...</th>\n",
       "      <th>STOCKHOLM_temp_max</th>\n",
       "      <th>VALENTIA_cloud_cover</th>\n",
       "      <th>VALENTIA_humidity</th>\n",
       "      <th>VALENTIA_pressure</th>\n",
       "      <th>VALENTIA_global_radiation</th>\n",
       "      <th>VALENTIA_precipitation</th>\n",
       "      <th>VALENTIA_sunshine</th>\n",
       "      <th>VALENTIA_temp_mean</th>\n",
       "      <th>VALENTIA_temp_min</th>\n",
       "      <th>VALENTIA_temp_max</th>\n",
       "    </tr>\n",
       "  </thead>\n",
       "  <tbody>\n",
       "    <tr>\n",
       "      <th>0</th>\n",
       "      <td>19600101</td>\n",
       "      <td>1</td>\n",
       "      <td>7</td>\n",
       "      <td>0.85</td>\n",
       "      <td>1.018</td>\n",
       "      <td>0.32</td>\n",
       "      <td>0.09</td>\n",
       "      <td>0.7</td>\n",
       "      <td>6.5</td>\n",
       "      <td>0.8</td>\n",
       "      <td>...</td>\n",
       "      <td>4.9</td>\n",
       "      <td>5</td>\n",
       "      <td>0.88</td>\n",
       "      <td>1.0003</td>\n",
       "      <td>0.45</td>\n",
       "      <td>0.34</td>\n",
       "      <td>4.7</td>\n",
       "      <td>8.5</td>\n",
       "      <td>6.0</td>\n",
       "      <td>10.9</td>\n",
       "    </tr>\n",
       "    <tr>\n",
       "      <th>1</th>\n",
       "      <td>19600102</td>\n",
       "      <td>1</td>\n",
       "      <td>6</td>\n",
       "      <td>0.84</td>\n",
       "      <td>1.018</td>\n",
       "      <td>0.36</td>\n",
       "      <td>1.05</td>\n",
       "      <td>1.1</td>\n",
       "      <td>6.1</td>\n",
       "      <td>3.3</td>\n",
       "      <td>...</td>\n",
       "      <td>5.0</td>\n",
       "      <td>7</td>\n",
       "      <td>0.91</td>\n",
       "      <td>1.0007</td>\n",
       "      <td>0.25</td>\n",
       "      <td>0.84</td>\n",
       "      <td>0.7</td>\n",
       "      <td>8.9</td>\n",
       "      <td>5.6</td>\n",
       "      <td>12.1</td>\n",
       "    </tr>\n",
       "    <tr>\n",
       "      <th>2</th>\n",
       "      <td>19600103</td>\n",
       "      <td>1</td>\n",
       "      <td>8</td>\n",
       "      <td>0.90</td>\n",
       "      <td>1.018</td>\n",
       "      <td>0.18</td>\n",
       "      <td>0.30</td>\n",
       "      <td>0.0</td>\n",
       "      <td>8.5</td>\n",
       "      <td>5.1</td>\n",
       "      <td>...</td>\n",
       "      <td>4.1</td>\n",
       "      <td>7</td>\n",
       "      <td>0.91</td>\n",
       "      <td>1.0096</td>\n",
       "      <td>0.17</td>\n",
       "      <td>0.08</td>\n",
       "      <td>0.1</td>\n",
       "      <td>10.5</td>\n",
       "      <td>8.1</td>\n",
       "      <td>12.9</td>\n",
       "    </tr>\n",
       "    <tr>\n",
       "      <th>3</th>\n",
       "      <td>19600104</td>\n",
       "      <td>1</td>\n",
       "      <td>3</td>\n",
       "      <td>0.92</td>\n",
       "      <td>1.018</td>\n",
       "      <td>0.58</td>\n",
       "      <td>0.00</td>\n",
       "      <td>4.1</td>\n",
       "      <td>6.3</td>\n",
       "      <td>3.8</td>\n",
       "      <td>...</td>\n",
       "      <td>2.3</td>\n",
       "      <td>7</td>\n",
       "      <td>0.86</td>\n",
       "      <td>1.0184</td>\n",
       "      <td>0.13</td>\n",
       "      <td>0.98</td>\n",
       "      <td>0.0</td>\n",
       "      <td>7.4</td>\n",
       "      <td>7.3</td>\n",
       "      <td>10.6</td>\n",
       "    </tr>\n",
       "    <tr>\n",
       "      <th>4</th>\n",
       "      <td>19600105</td>\n",
       "      <td>1</td>\n",
       "      <td>6</td>\n",
       "      <td>0.95</td>\n",
       "      <td>1.018</td>\n",
       "      <td>0.65</td>\n",
       "      <td>0.14</td>\n",
       "      <td>5.4</td>\n",
       "      <td>3.0</td>\n",
       "      <td>-0.7</td>\n",
       "      <td>...</td>\n",
       "      <td>4.3</td>\n",
       "      <td>3</td>\n",
       "      <td>0.80</td>\n",
       "      <td>1.0328</td>\n",
       "      <td>0.46</td>\n",
       "      <td>0.00</td>\n",
       "      <td>5.7</td>\n",
       "      <td>5.7</td>\n",
       "      <td>3.0</td>\n",
       "      <td>8.4</td>\n",
       "    </tr>\n",
       "  </tbody>\n",
       "</table>\n",
       "<p>5 rows × 137 columns</p>\n",
       "</div>"
      ],
      "text/plain": [
       "       DATE  MONTH  BASEL_cloud_cover  BASEL_humidity  BASEL_pressure  \\\n",
       "0  19600101      1                  7            0.85           1.018   \n",
       "1  19600102      1                  6            0.84           1.018   \n",
       "2  19600103      1                  8            0.90           1.018   \n",
       "3  19600104      1                  3            0.92           1.018   \n",
       "4  19600105      1                  6            0.95           1.018   \n",
       "\n",
       "   BASEL_global_radiation  BASEL_precipitation  BASEL_sunshine  \\\n",
       "0                    0.32                 0.09             0.7   \n",
       "1                    0.36                 1.05             1.1   \n",
       "2                    0.18                 0.30             0.0   \n",
       "3                    0.58                 0.00             4.1   \n",
       "4                    0.65                 0.14             5.4   \n",
       "\n",
       "   BASEL_temp_mean  BASEL_temp_min  ...  STOCKHOLM_temp_max  \\\n",
       "0              6.5             0.8  ...                 4.9   \n",
       "1              6.1             3.3  ...                 5.0   \n",
       "2              8.5             5.1  ...                 4.1   \n",
       "3              6.3             3.8  ...                 2.3   \n",
       "4              3.0            -0.7  ...                 4.3   \n",
       "\n",
       "   VALENTIA_cloud_cover  VALENTIA_humidity  VALENTIA_pressure  \\\n",
       "0                     5               0.88             1.0003   \n",
       "1                     7               0.91             1.0007   \n",
       "2                     7               0.91             1.0096   \n",
       "3                     7               0.86             1.0184   \n",
       "4                     3               0.80             1.0328   \n",
       "\n",
       "   VALENTIA_global_radiation  VALENTIA_precipitation  VALENTIA_sunshine  \\\n",
       "0                       0.45                    0.34                4.7   \n",
       "1                       0.25                    0.84                0.7   \n",
       "2                       0.17                    0.08                0.1   \n",
       "3                       0.13                    0.98                0.0   \n",
       "4                       0.46                    0.00                5.7   \n",
       "\n",
       "   VALENTIA_temp_mean  VALENTIA_temp_min  VALENTIA_temp_max  \n",
       "0                 8.5                6.0               10.9  \n",
       "1                 8.9                5.6               12.1  \n",
       "2                10.5                8.1               12.9  \n",
       "3                 7.4                7.3               10.6  \n",
       "4                 5.7                3.0                8.4  \n",
       "\n",
       "[5 rows x 137 columns]"
      ]
     },
     "execution_count": 146,
     "metadata": {},
     "output_type": "execute_result"
    }
   ],
   "source": [
    "df_station.head()"
   ]
  },
  {
   "cell_type": "code",
   "execution_count": 147,
   "id": "986c0e2f-a7c5-4482-93cd-3f1726af3d99",
   "metadata": {},
   "outputs": [],
   "source": [
    "#drop columns in dataframe that are not in the pleasant weather dataframes, and DATE and MONTH columns\n",
    "df_match= df_station.drop(['MONTH'], axis = 1)"
   ]
  },
  {
   "cell_type": "code",
   "execution_count": 148,
   "id": "629299f5-3f78-47b4-b1f8-d0246e73ca16",
   "metadata": {},
   "outputs": [
    {
     "data": {
      "text/html": [
       "<div>\n",
       "<style scoped>\n",
       "    .dataframe tbody tr th:only-of-type {\n",
       "        vertical-align: middle;\n",
       "    }\n",
       "\n",
       "    .dataframe tbody tr th {\n",
       "        vertical-align: top;\n",
       "    }\n",
       "\n",
       "    .dataframe thead th {\n",
       "        text-align: right;\n",
       "    }\n",
       "</style>\n",
       "<table border=\"1\" class=\"dataframe\">\n",
       "  <thead>\n",
       "    <tr style=\"text-align: right;\">\n",
       "      <th></th>\n",
       "      <th>DATE</th>\n",
       "      <th>BASEL_cloud_cover</th>\n",
       "      <th>BASEL_humidity</th>\n",
       "      <th>BASEL_pressure</th>\n",
       "      <th>BASEL_global_radiation</th>\n",
       "      <th>BASEL_precipitation</th>\n",
       "      <th>BASEL_sunshine</th>\n",
       "      <th>BASEL_temp_mean</th>\n",
       "      <th>BASEL_temp_min</th>\n",
       "      <th>BASEL_temp_max</th>\n",
       "      <th>...</th>\n",
       "      <th>STOCKHOLM_temp_max</th>\n",
       "      <th>VALENTIA_cloud_cover</th>\n",
       "      <th>VALENTIA_humidity</th>\n",
       "      <th>VALENTIA_pressure</th>\n",
       "      <th>VALENTIA_global_radiation</th>\n",
       "      <th>VALENTIA_precipitation</th>\n",
       "      <th>VALENTIA_sunshine</th>\n",
       "      <th>VALENTIA_temp_mean</th>\n",
       "      <th>VALENTIA_temp_min</th>\n",
       "      <th>VALENTIA_temp_max</th>\n",
       "    </tr>\n",
       "  </thead>\n",
       "  <tbody>\n",
       "    <tr>\n",
       "      <th>0</th>\n",
       "      <td>19600101</td>\n",
       "      <td>7</td>\n",
       "      <td>0.85</td>\n",
       "      <td>1.018</td>\n",
       "      <td>0.32</td>\n",
       "      <td>0.09</td>\n",
       "      <td>0.7</td>\n",
       "      <td>6.5</td>\n",
       "      <td>0.8</td>\n",
       "      <td>10.9</td>\n",
       "      <td>...</td>\n",
       "      <td>4.9</td>\n",
       "      <td>5</td>\n",
       "      <td>0.88</td>\n",
       "      <td>1.0003</td>\n",
       "      <td>0.45</td>\n",
       "      <td>0.34</td>\n",
       "      <td>4.7</td>\n",
       "      <td>8.5</td>\n",
       "      <td>6.0</td>\n",
       "      <td>10.9</td>\n",
       "    </tr>\n",
       "    <tr>\n",
       "      <th>1</th>\n",
       "      <td>19600102</td>\n",
       "      <td>6</td>\n",
       "      <td>0.84</td>\n",
       "      <td>1.018</td>\n",
       "      <td>0.36</td>\n",
       "      <td>1.05</td>\n",
       "      <td>1.1</td>\n",
       "      <td>6.1</td>\n",
       "      <td>3.3</td>\n",
       "      <td>10.1</td>\n",
       "      <td>...</td>\n",
       "      <td>5.0</td>\n",
       "      <td>7</td>\n",
       "      <td>0.91</td>\n",
       "      <td>1.0007</td>\n",
       "      <td>0.25</td>\n",
       "      <td>0.84</td>\n",
       "      <td>0.7</td>\n",
       "      <td>8.9</td>\n",
       "      <td>5.6</td>\n",
       "      <td>12.1</td>\n",
       "    </tr>\n",
       "    <tr>\n",
       "      <th>2</th>\n",
       "      <td>19600103</td>\n",
       "      <td>8</td>\n",
       "      <td>0.90</td>\n",
       "      <td>1.018</td>\n",
       "      <td>0.18</td>\n",
       "      <td>0.30</td>\n",
       "      <td>0.0</td>\n",
       "      <td>8.5</td>\n",
       "      <td>5.1</td>\n",
       "      <td>9.9</td>\n",
       "      <td>...</td>\n",
       "      <td>4.1</td>\n",
       "      <td>7</td>\n",
       "      <td>0.91</td>\n",
       "      <td>1.0096</td>\n",
       "      <td>0.17</td>\n",
       "      <td>0.08</td>\n",
       "      <td>0.1</td>\n",
       "      <td>10.5</td>\n",
       "      <td>8.1</td>\n",
       "      <td>12.9</td>\n",
       "    </tr>\n",
       "    <tr>\n",
       "      <th>3</th>\n",
       "      <td>19600104</td>\n",
       "      <td>3</td>\n",
       "      <td>0.92</td>\n",
       "      <td>1.018</td>\n",
       "      <td>0.58</td>\n",
       "      <td>0.00</td>\n",
       "      <td>4.1</td>\n",
       "      <td>6.3</td>\n",
       "      <td>3.8</td>\n",
       "      <td>10.6</td>\n",
       "      <td>...</td>\n",
       "      <td>2.3</td>\n",
       "      <td>7</td>\n",
       "      <td>0.86</td>\n",
       "      <td>1.0184</td>\n",
       "      <td>0.13</td>\n",
       "      <td>0.98</td>\n",
       "      <td>0.0</td>\n",
       "      <td>7.4</td>\n",
       "      <td>7.3</td>\n",
       "      <td>10.6</td>\n",
       "    </tr>\n",
       "    <tr>\n",
       "      <th>4</th>\n",
       "      <td>19600105</td>\n",
       "      <td>6</td>\n",
       "      <td>0.95</td>\n",
       "      <td>1.018</td>\n",
       "      <td>0.65</td>\n",
       "      <td>0.14</td>\n",
       "      <td>5.4</td>\n",
       "      <td>3.0</td>\n",
       "      <td>-0.7</td>\n",
       "      <td>6.0</td>\n",
       "      <td>...</td>\n",
       "      <td>4.3</td>\n",
       "      <td>3</td>\n",
       "      <td>0.80</td>\n",
       "      <td>1.0328</td>\n",
       "      <td>0.46</td>\n",
       "      <td>0.00</td>\n",
       "      <td>5.7</td>\n",
       "      <td>5.7</td>\n",
       "      <td>3.0</td>\n",
       "      <td>8.4</td>\n",
       "    </tr>\n",
       "  </tbody>\n",
       "</table>\n",
       "<p>5 rows × 136 columns</p>\n",
       "</div>"
      ],
      "text/plain": [
       "       DATE  BASEL_cloud_cover  BASEL_humidity  BASEL_pressure  \\\n",
       "0  19600101                  7            0.85           1.018   \n",
       "1  19600102                  6            0.84           1.018   \n",
       "2  19600103                  8            0.90           1.018   \n",
       "3  19600104                  3            0.92           1.018   \n",
       "4  19600105                  6            0.95           1.018   \n",
       "\n",
       "   BASEL_global_radiation  BASEL_precipitation  BASEL_sunshine  \\\n",
       "0                    0.32                 0.09             0.7   \n",
       "1                    0.36                 1.05             1.1   \n",
       "2                    0.18                 0.30             0.0   \n",
       "3                    0.58                 0.00             4.1   \n",
       "4                    0.65                 0.14             5.4   \n",
       "\n",
       "   BASEL_temp_mean  BASEL_temp_min  BASEL_temp_max  ...  STOCKHOLM_temp_max  \\\n",
       "0              6.5             0.8            10.9  ...                 4.9   \n",
       "1              6.1             3.3            10.1  ...                 5.0   \n",
       "2              8.5             5.1             9.9  ...                 4.1   \n",
       "3              6.3             3.8            10.6  ...                 2.3   \n",
       "4              3.0            -0.7             6.0  ...                 4.3   \n",
       "\n",
       "   VALENTIA_cloud_cover  VALENTIA_humidity  VALENTIA_pressure  \\\n",
       "0                     5               0.88             1.0003   \n",
       "1                     7               0.91             1.0007   \n",
       "2                     7               0.91             1.0096   \n",
       "3                     7               0.86             1.0184   \n",
       "4                     3               0.80             1.0328   \n",
       "\n",
       "   VALENTIA_global_radiation  VALENTIA_precipitation  VALENTIA_sunshine  \\\n",
       "0                       0.45                    0.34                4.7   \n",
       "1                       0.25                    0.84                0.7   \n",
       "2                       0.17                    0.08                0.1   \n",
       "3                       0.13                    0.98                0.0   \n",
       "4                       0.46                    0.00                5.7   \n",
       "\n",
       "   VALENTIA_temp_mean  VALENTIA_temp_min  VALENTIA_temp_max  \n",
       "0                 8.5                6.0               10.9  \n",
       "1                 8.9                5.6               12.1  \n",
       "2                10.5                8.1               12.9  \n",
       "3                 7.4                7.3               10.6  \n",
       "4                 5.7                3.0                8.4  \n",
       "\n",
       "[5 rows x 136 columns]"
      ]
     },
     "execution_count": 148,
     "metadata": {},
     "output_type": "execute_result"
    }
   ],
   "source": [
    "df_match.head()"
   ]
  },
  {
   "cell_type": "code",
   "execution_count": 149,
   "id": "277f2033-0dd6-49fc-93fc-5faefe8e2178",
   "metadata": {},
   "outputs": [
    {
     "data": {
      "text/plain": [
       "(22950, 136)"
      ]
     },
     "execution_count": 149,
     "metadata": {},
     "output_type": "execute_result"
    }
   ],
   "source": [
    "df_match.shape"
   ]
  },
  {
   "cell_type": "code",
   "execution_count": 150,
   "id": "2ecdb2e5-4cb7-42e6-adc8-e8db82c34f67",
   "metadata": {},
   "outputs": [],
   "source": [
    "# Create X and y matrices\n",
    "X = df_match.drop(['DATE'], axis=1)\n",
    "y = df_pleasant.drop(['DATE'], axis=1)"
   ]
  },
  {
   "cell_type": "code",
   "execution_count": 151,
   "id": "3fdc2dba-9bd5-420e-bff0-4622d9a40669",
   "metadata": {},
   "outputs": [
    {
     "name": "stdout",
     "output_type": "stream",
     "text": [
      "(22950, 135)\n",
      "(22950, 15)\n"
     ]
    }
   ],
   "source": [
    "print(X.shape)\n",
    "print(y.shape)"
   ]
  },
  {
   "cell_type": "markdown",
   "id": "cf44075b-2914-431d-b5ee-9970a4f7b078",
   "metadata": {},
   "source": [
    "## 4. Reshaping the Model"
   ]
  },
  {
   "cell_type": "code",
   "execution_count": 153,
   "id": "0252b154-d5fa-435e-bbdb-03cc5dfb5361",
   "metadata": {},
   "outputs": [],
   "source": [
    "# Reshape\n",
    "X = X.values.reshape(-1,15,9)"
   ]
  },
  {
   "cell_type": "code",
   "execution_count": 154,
   "id": "f816f67a-d2dc-4f69-820a-8f8cfcb74fbe",
   "metadata": {},
   "outputs": [
    {
     "name": "stdout",
     "output_type": "stream",
     "text": [
      "(22950, 15, 9)\n"
     ]
    }
   ],
   "source": [
    "print(X.shape)"
   ]
  },
  {
   "cell_type": "code",
   "execution_count": 155,
   "id": "6e700497-515c-462b-86c3-13acd91dbb41",
   "metadata": {},
   "outputs": [],
   "source": [
    "# Reshape\n",
    "y = y.values.reshape(-1,15)"
   ]
  },
  {
   "cell_type": "code",
   "execution_count": 156,
   "id": "2ae10acd-5b82-40bf-bd6d-b6257d2704c3",
   "metadata": {},
   "outputs": [
    {
     "name": "stdout",
     "output_type": "stream",
     "text": [
      "(22950, 15)\n"
     ]
    }
   ],
   "source": [
    "print(y.shape)"
   ]
  },
  {
   "cell_type": "markdown",
   "id": "404ffb3c-2519-4d6e-a52c-b573b23937e1",
   "metadata": {},
   "source": [
    "## 5. Data Split"
   ]
  },
  {
   "cell_type": "code",
   "execution_count": 158,
   "id": "3d234823-c43d-4342-be7e-098b5adf7553",
   "metadata": {},
   "outputs": [],
   "source": [
    "# Split\n",
    "X_train, X_test, y_train, y_test = train_test_split(X, y, random_state=42)"
   ]
  },
  {
   "cell_type": "code",
   "execution_count": 159,
   "id": "45f9c1ae-cfec-466a-9527-2ee34e9aacda",
   "metadata": {},
   "outputs": [
    {
     "name": "stdout",
     "output_type": "stream",
     "text": [
      "(17212, 15, 9)\n",
      "(5738, 15, 9)\n",
      "(17212, 15)\n",
      "(5738, 15)\n"
     ]
    }
   ],
   "source": [
    "print(X_train.shape)\n",
    "print(X_test.shape)\n",
    "print(y_train.shape)\n",
    "print(y_test.shape)"
   ]
  },
  {
   "cell_type": "code",
   "execution_count": 160,
   "id": "98d94227-25cb-49e0-804b-e79df5cb8f4f",
   "metadata": {},
   "outputs": [
    {
     "data": {
      "text/plain": [
       "15"
      ]
     },
     "execution_count": 160,
     "metadata": {},
     "output_type": "execute_result"
    }
   ],
   "source": [
    "len(X_train[0])"
   ]
  },
  {
   "cell_type": "code",
   "execution_count": 161,
   "id": "7a964d3f-e80d-4c59-9188-ebd977f8af59",
   "metadata": {},
   "outputs": [
    {
     "data": {
      "text/plain": [
       "9"
      ]
     },
     "execution_count": 161,
     "metadata": {},
     "output_type": "execute_result"
    }
   ],
   "source": [
    "len(X_train[0][0])"
   ]
  },
  {
   "cell_type": "code",
   "execution_count": 162,
   "id": "2306fc3c-2c9c-4d78-ba04-5b8f51c3485e",
   "metadata": {},
   "outputs": [
    {
     "data": {
      "text/plain": [
       "15"
      ]
     },
     "execution_count": 162,
     "metadata": {},
     "output_type": "execute_result"
    }
   ],
   "source": [
    "len(y_train[0])"
   ]
  },
  {
   "cell_type": "markdown",
   "id": "cb425128-447e-4b0a-b192-bc173299899c",
   "metadata": {},
   "source": [
    "## 6. Simple RNN Model"
   ]
  },
  {
   "cell_type": "code",
   "execution_count": 164,
   "id": "a2730359-6f7c-4346-b4af-a7b03af5f3a8",
   "metadata": {},
   "outputs": [
    {
     "name": "stderr",
     "output_type": "stream",
     "text": [
      "/opt/anaconda3/lib/python3.12/site-packages/keras/src/layers/rnn/rnn.py:204: UserWarning: Do not pass an `input_shape`/`input_dim` argument to a layer. When using Sequential models, prefer using an `Input(shape)` object as the first layer in the model instead.\n",
      "  super().__init__(**kwargs)\n"
     ]
    }
   ],
   "source": [
    "model = Sequential()\n",
    "model.add(SimpleRNN(64, input_shape=(15, 9), activation='relu'))\n",
    "model.add(Dense(15, activation='sigmoid'))\n",
    "model.compile (loss='binary_crossentropy', optimizer='adam', metrics=[keras.metrics.TruePositives(name='tp'),\n",
    "                                                                      keras.metrics.FalsePositives(name='fp'),\n",
    "                                                                      keras.metrics.TrueNegatives(name='tn'),\n",
    "                                                                      keras.metrics.FalseNegatives(name='fn'),\n",
    "                                                                      keras.metrics.BinaryAccuracy(name='accuracy'),\n",
    "                                                                      keras.metrics.Precision(name='precision'),\n",
    "                                                                      keras.metrics.Recall(name='recall'),\n",
    "                                                                      keras.metrics.AUC(name='auc')])"
   ]
  },
  {
   "cell_type": "code",
   "execution_count": 165,
   "id": "ea8fc628-5882-44f1-a53a-18e181212de0",
   "metadata": {},
   "outputs": [
    {
     "name": "stdout",
     "output_type": "stream",
     "text": [
      "Epoch 1/47\n",
      "\u001b[1m538/538\u001b[0m \u001b[32m━━━━━━━━━━━━━━━━━━━━\u001b[0m\u001b[37m\u001b[0m \u001b[1m2s\u001b[0m 2ms/step - accuracy: 0.8233 - auc: 0.8586 - fn: 10806.5547 - fp: 9300.9912 - loss: 0.4198 - precision: 0.5993 - recall: 0.5769 - tn: 92291.8359 - tp: 17199.5020 - val_accuracy: 0.8876 - val_auc: 0.9452 - val_fn: 5814.0000 - val_fp: 3858.0000 - val_loss: 0.2397 - val_precision: 0.7627 - val_recall: 0.6807 - val_tn: 64001.0000 - val_tp: 12397.0000\n",
      "Epoch 2/47\n",
      "\u001b[1m538/538\u001b[0m \u001b[32m━━━━━━━━━━━━━━━━━━━━\u001b[0m\u001b[37m\u001b[0m \u001b[1m1s\u001b[0m 1ms/step - accuracy: 0.8949 - auc: 0.9510 - fn: 7189.0000 - fp: 6284.2637 - loss: 0.2286 - precision: 0.7663 - recall: 0.7404 - tn: 95347.7578 - tp: 20777.8672 - val_accuracy: 0.9029 - val_auc: 0.9584 - val_fn: 4566.0000 - val_fp: 3790.0000 - val_loss: 0.2094 - val_precision: 0.7826 - val_recall: 0.7493 - val_tn: 64069.0000 - val_tp: 13645.0000\n",
      "Epoch 3/47\n",
      "\u001b[1m538/538\u001b[0m \u001b[32m━━━━━━━━━━━━━━━━━━━━\u001b[0m\u001b[37m\u001b[0m \u001b[1m1s\u001b[0m 1ms/step - accuracy: 0.9047 - auc: 0.9598 - fn: 6432.4194 - fp: 5887.8125 - loss: 0.2078 - precision: 0.7858 - recall: 0.7681 - tn: 95624.2812 - tp: 21654.3730 - val_accuracy: 0.9077 - val_auc: 0.9624 - val_fn: 4278.0000 - val_fp: 3664.0000 - val_loss: 0.1997 - val_precision: 0.7918 - val_recall: 0.7651 - val_tn: 64195.0000 - val_tp: 13933.0000\n",
      "Epoch 4/47\n",
      "\u001b[1m538/538\u001b[0m \u001b[32m━━━━━━━━━━━━━━━━━━━━\u001b[0m\u001b[37m\u001b[0m \u001b[1m1s\u001b[0m 1ms/step - accuracy: 0.9106 - auc: 0.9644 - fn: 6021.9722 - fp: 5579.8198 - loss: 0.1962 - precision: 0.7968 - recall: 0.7862 - tn: 95939.8125 - tp: 22057.2852 - val_accuracy: 0.9119 - val_auc: 0.9655 - val_fn: 3204.0000 - val_fp: 4383.0000 - val_loss: 0.1936 - val_precision: 0.7740 - val_recall: 0.8241 - val_tn: 63476.0000 - val_tp: 15007.0000\n",
      "Epoch 5/47\n",
      "\u001b[1m538/538\u001b[0m \u001b[32m━━━━━━━━━━━━━━━━━━━━\u001b[0m\u001b[37m\u001b[0m \u001b[1m1s\u001b[0m 1ms/step - accuracy: 0.9164 - auc: 0.9683 - fn: 5588.7939 - fp: 5242.7866 - loss: 0.1858 - precision: 0.8106 - recall: 0.8010 - tn: 96350.5938 - tp: 22416.7129 - val_accuracy: 0.9186 - val_auc: 0.9690 - val_fn: 3309.0000 - val_fp: 3695.0000 - val_loss: 0.1818 - val_precision: 0.8013 - val_recall: 0.8183 - val_tn: 64164.0000 - val_tp: 14902.0000\n",
      "Epoch 6/47\n",
      "\u001b[1m538/538\u001b[0m \u001b[32m━━━━━━━━━━━━━━━━━━━━\u001b[0m\u001b[37m\u001b[0m \u001b[1m1s\u001b[0m 1ms/step - accuracy: 0.9211 - auc: 0.9711 - fn: 5190.6421 - fp: 5068.5195 - loss: 0.1765 - precision: 0.8162 - recall: 0.8134 - tn: 96576.6406 - tp: 22763.0840 - val_accuracy: 0.9237 - val_auc: 0.9728 - val_fn: 2947.0000 - val_fp: 3618.0000 - val_loss: 0.1726 - val_precision: 0.8084 - val_recall: 0.8382 - val_tn: 64241.0000 - val_tp: 15264.0000\n",
      "Epoch 7/47\n",
      "\u001b[1m538/538\u001b[0m \u001b[32m━━━━━━━━━━━━━━━━━━━━\u001b[0m\u001b[37m\u001b[0m \u001b[1m1s\u001b[0m 1ms/step - accuracy: 0.9231 - auc: 0.9727 - fn: 4969.4990 - fp: 4910.3154 - loss: 0.1723 - precision: 0.8214 - recall: 0.8198 - tn: 96777.2812 - tp: 22941.7930 - val_accuracy: 0.9241 - val_auc: 0.9731 - val_fn: 2649.0000 - val_fp: 3883.0000 - val_loss: 0.1714 - val_precision: 0.8003 - val_recall: 0.8545 - val_tn: 63976.0000 - val_tp: 15562.0000\n",
      "Epoch 8/47\n",
      "\u001b[1m538/538\u001b[0m \u001b[32m━━━━━━━━━━━━━━━━━━━━\u001b[0m\u001b[37m\u001b[0m \u001b[1m1s\u001b[0m 1ms/step - accuracy: 0.9284 - auc: 0.9760 - fn: 4627.3506 - fp: 4676.4248 - loss: 0.1621 - precision: 0.8340 - recall: 0.8335 - tn: 97008.2188 - tp: 23286.8887 - val_accuracy: 0.9262 - val_auc: 0.9763 - val_fn: 1826.0000 - val_fp: 4528.0000 - val_loss: 0.1684 - val_precision: 0.7835 - val_recall: 0.8997 - val_tn: 63331.0000 - val_tp: 16385.0000\n",
      "Epoch 9/47\n",
      "\u001b[1m538/538\u001b[0m \u001b[32m━━━━━━━━━━━━━━━━━━━━\u001b[0m\u001b[37m\u001b[0m \u001b[1m1s\u001b[0m 1ms/step - accuracy: 0.9307 - auc: 0.9775 - fn: 4381.9331 - fp: 4565.1299 - loss: 0.1578 - precision: 0.8368 - recall: 0.8454 - tn: 97027.2344 - tp: 23624.5859 - val_accuracy: 0.9300 - val_auc: 0.9781 - val_fn: 3977.0000 - val_fp: 2048.0000 - val_loss: 0.1592 - val_precision: 0.8742 - val_recall: 0.7816 - val_tn: 65811.0000 - val_tp: 14234.0000\n",
      "Epoch 10/47\n",
      "\u001b[1m538/538\u001b[0m \u001b[32m━━━━━━━━━━━━━━━━━━━━\u001b[0m\u001b[37m\u001b[0m \u001b[1m1s\u001b[0m 1ms/step - accuracy: 0.9337 - auc: 0.9793 - fn: 4228.5679 - fp: 4357.1113 - loss: 0.1507 - precision: 0.8440 - recall: 0.8473 - tn: 97353.5469 - tp: 23659.6621 - val_accuracy: 0.9349 - val_auc: 0.9798 - val_fn: 2498.0000 - val_fp: 3104.0000 - val_loss: 0.1484 - val_precision: 0.8350 - val_recall: 0.8628 - val_tn: 64755.0000 - val_tp: 15713.0000\n",
      "Epoch 11/47\n",
      "\u001b[1m538/538\u001b[0m \u001b[32m━━━━━━━━━━━━━━━━━━━━\u001b[0m\u001b[37m\u001b[0m \u001b[1m1s\u001b[0m 1ms/step - accuracy: 0.9378 - auc: 0.9813 - fn: 3975.2412 - fp: 4134.1558 - loss: 0.1433 - precision: 0.8534 - recall: 0.8573 - tn: 97585.6484 - tp: 23903.8438 - val_accuracy: 0.9354 - val_auc: 0.9811 - val_fn: 3453.0000 - val_fp: 2109.0000 - val_loss: 0.1461 - val_precision: 0.8750 - val_recall: 0.8104 - val_tn: 65750.0000 - val_tp: 14758.0000\n",
      "Epoch 12/47\n",
      "\u001b[1m538/538\u001b[0m \u001b[32m━━━━━━━━━━━━━━━━━━━━\u001b[0m\u001b[37m\u001b[0m \u001b[1m1s\u001b[0m 1ms/step - accuracy: 0.9393 - auc: 0.9825 - fn: 3766.3042 - fp: 4005.3210 - loss: 0.1391 - precision: 0.8576 - recall: 0.8644 - tn: 97496.7500 - tp: 24330.5117 - val_accuracy: 0.9413 - val_auc: 0.9830 - val_fn: 2041.0000 - val_fp: 3013.0000 - val_loss: 0.1362 - val_precision: 0.8429 - val_recall: 0.8879 - val_tn: 64846.0000 - val_tp: 16170.0000\n",
      "Epoch 13/47\n",
      "\u001b[1m538/538\u001b[0m \u001b[32m━━━━━━━━━━━━━━━━━━━━\u001b[0m\u001b[37m\u001b[0m \u001b[1m1s\u001b[0m 1ms/step - accuracy: 0.9433 - auc: 0.9840 - fn: 3470.0613 - fp: 3893.8274 - loss: 0.1321 - precision: 0.8616 - recall: 0.8755 - tn: 97739.8047 - tp: 24495.1914 - val_accuracy: 0.9443 - val_auc: 0.9847 - val_fn: 2588.0000 - val_fp: 2209.0000 - val_loss: 0.1300 - val_precision: 0.8761 - val_recall: 0.8579 - val_tn: 65650.0000 - val_tp: 15623.0000\n",
      "Epoch 14/47\n",
      "\u001b[1m538/538\u001b[0m \u001b[32m━━━━━━━━━━━━━━━━━━━━\u001b[0m\u001b[37m\u001b[0m \u001b[1m1s\u001b[0m 1ms/step - accuracy: 0.9473 - auc: 0.9860 - fn: 3198.6680 - fp: 3694.7922 - loss: 0.1231 - precision: 0.8704 - recall: 0.8852 - tn: 98058.6328 - tp: 24646.7910 - val_accuracy: 0.9469 - val_auc: 0.9857 - val_fn: 2217.0000 - val_fp: 2357.0000 - val_loss: 0.1253 - val_precision: 0.8716 - val_recall: 0.8783 - val_tn: 65502.0000 - val_tp: 15994.0000\n",
      "Epoch 15/47\n",
      "\u001b[1m538/538\u001b[0m \u001b[32m━━━━━━━━━━━━━━━━━━━━\u001b[0m\u001b[37m\u001b[0m \u001b[1m1s\u001b[0m 1ms/step - accuracy: 0.9494 - auc: 0.9871 - fn: 3009.9072 - fp: 3506.4973 - loss: 0.1190 - precision: 0.8776 - recall: 0.8926 - tn: 97918.5547 - tp: 25163.9258 - val_accuracy: 0.9521 - val_auc: 0.9881 - val_fn: 1540.0000 - val_fp: 2583.0000 - val_loss: 0.1140 - val_precision: 0.8658 - val_recall: 0.9154 - val_tn: 65276.0000 - val_tp: 16671.0000\n",
      "Epoch 16/47\n",
      "\u001b[1m538/538\u001b[0m \u001b[32m━━━━━━━━━━━━━━━━━━━━\u001b[0m\u001b[37m\u001b[0m \u001b[1m1s\u001b[0m 1ms/step - accuracy: 0.9536 - auc: 0.9889 - fn: 2764.3005 - fp: 3319.5325 - loss: 0.1102 - precision: 0.8857 - recall: 0.9021 - tn: 98347.6094 - tp: 25167.4453 - val_accuracy: 0.9527 - val_auc: 0.9895 - val_fn: 2541.0000 - val_fp: 1526.0000 - val_loss: 0.1097 - val_precision: 0.9113 - val_recall: 0.8605 - val_tn: 66333.0000 - val_tp: 15670.0000\n",
      "Epoch 17/47\n",
      "\u001b[1m538/538\u001b[0m \u001b[32m━━━━━━━━━━━━━━━━━━━━\u001b[0m\u001b[37m\u001b[0m \u001b[1m1s\u001b[0m 1ms/step - accuracy: 0.9561 - auc: 0.9898 - fn: 2514.9944 - fp: 3151.6030 - loss: 0.1050 - precision: 0.8907 - recall: 0.9089 - tn: 98492.0391 - tp: 25440.2539 - val_accuracy: 0.9547 - val_auc: 0.9896 - val_fn: 2084.0000 - val_fp: 1817.0000 - val_loss: 0.1085 - val_precision: 0.8987 - val_recall: 0.8856 - val_tn: 66042.0000 - val_tp: 16127.0000\n",
      "Epoch 18/47\n",
      "\u001b[1m538/538\u001b[0m \u001b[32m━━━━━━━━━━━━━━━━━━━━\u001b[0m\u001b[37m\u001b[0m \u001b[1m1s\u001b[0m 1ms/step - accuracy: 0.9585 - auc: 0.9907 - fn: 2345.0259 - fp: 2994.7217 - loss: 0.1005 - precision: 0.8959 - recall: 0.9174 - tn: 98416.8984 - tp: 25842.2402 - val_accuracy: 0.9596 - val_auc: 0.9912 - val_fn: 1080.0000 - val_fp: 2400.0000 - val_loss: 0.0982 - val_precision: 0.8771 - val_recall: 0.9407 - val_tn: 65459.0000 - val_tp: 17131.0000\n",
      "Epoch 19/47\n",
      "\u001b[1m538/538\u001b[0m \u001b[32m━━━━━━━━━━━━━━━━━━━━\u001b[0m\u001b[37m\u001b[0m \u001b[1m1s\u001b[0m 1ms/step - accuracy: 0.9614 - auc: 0.9918 - fn: 2202.6567 - fp: 2800.6604 - loss: 0.0942 - precision: 0.9030 - recall: 0.9225 - tn: 98647.6562 - tp: 25947.9141 - val_accuracy: 0.9617 - val_auc: 0.9923 - val_fn: 1081.0000 - val_fp: 2216.0000 - val_loss: 0.0917 - val_precision: 0.8855 - val_recall: 0.9406 - val_tn: 65643.0000 - val_tp: 17130.0000\n",
      "Epoch 20/47\n",
      "\u001b[1m538/538\u001b[0m \u001b[32m━━━━━━━━━━━━━━━━━━━━\u001b[0m\u001b[37m\u001b[0m \u001b[1m1s\u001b[0m 1ms/step - accuracy: 0.9640 - auc: 0.9928 - fn: 2008.5770 - fp: 2664.4248 - loss: 0.0876 - precision: 0.9068 - recall: 0.9270 - tn: 98964.6250 - tp: 25961.2637 - val_accuracy: 0.9667 - val_auc: 0.9937 - val_fn: 959.0000 - val_fp: 1908.0000 - val_loss: 0.0837 - val_precision: 0.9004 - val_recall: 0.9473 - val_tn: 65951.0000 - val_tp: 17252.0000\n",
      "Epoch 21/47\n",
      "\u001b[1m538/538\u001b[0m \u001b[32m━━━━━━━━━━━━━━━━━━━━\u001b[0m\u001b[37m\u001b[0m \u001b[1m1s\u001b[0m 1ms/step - accuracy: 0.9673 - auc: 0.9938 - fn: 1811.3636 - fp: 2431.5676 - loss: 0.0808 - precision: 0.9150 - recall: 0.9354 - tn: 99193.9297 - tp: 26162.0293 - val_accuracy: 0.9660 - val_auc: 0.9939 - val_fn: 667.0000 - val_fp: 2263.0000 - val_loss: 0.0844 - val_precision: 0.8857 - val_recall: 0.9634 - val_tn: 65596.0000 - val_tp: 17544.0000\n",
      "Epoch 22/47\n",
      "\u001b[1m538/538\u001b[0m \u001b[32m━━━━━━━━━━━━━━━━━━━━\u001b[0m\u001b[37m\u001b[0m \u001b[1m1s\u001b[0m 1ms/step - accuracy: 0.9684 - auc: 0.9940 - fn: 1721.5789 - fp: 2388.4788 - loss: 0.0797 - precision: 0.9163 - recall: 0.9402 - tn: 99109.7578 - tp: 26379.0742 - val_accuracy: 0.9694 - val_auc: 0.9947 - val_fn: 816.0000 - val_fp: 1821.0000 - val_loss: 0.0750 - val_precision: 0.9052 - val_recall: 0.9552 - val_tn: 66038.0000 - val_tp: 17395.0000\n",
      "Epoch 23/47\n",
      "\u001b[1m538/538\u001b[0m \u001b[32m━━━━━━━━━━━━━━━━━━━━\u001b[0m\u001b[37m\u001b[0m \u001b[1m1s\u001b[0m 1ms/step - accuracy: 0.9701 - auc: 0.9948 - fn: 1655.0984 - fp: 2251.4026 - loss: 0.0739 - precision: 0.9207 - recall: 0.9411 - tn: 99483.5156 - tp: 26208.8672 - val_accuracy: 0.9708 - val_auc: 0.9952 - val_fn: 803.0000 - val_fp: 1709.0000 - val_loss: 0.0716 - val_precision: 0.9106 - val_recall: 0.9559 - val_tn: 66150.0000 - val_tp: 17408.0000\n",
      "Epoch 24/47\n",
      "\u001b[1m538/538\u001b[0m \u001b[32m━━━━━━━━━━━━━━━━━━━━\u001b[0m\u001b[37m\u001b[0m \u001b[1m1s\u001b[0m 1ms/step - accuracy: 0.9716 - auc: 0.9953 - fn: 1545.1632 - fp: 2130.0891 - loss: 0.0705 - precision: 0.9265 - recall: 0.9462 - tn: 99199.3281 - tp: 26724.3047 - val_accuracy: 0.9719 - val_auc: 0.9955 - val_fn: 683.0000 - val_fp: 1737.0000 - val_loss: 0.0695 - val_precision: 0.9098 - val_recall: 0.9625 - val_tn: 66122.0000 - val_tp: 17528.0000\n",
      "Epoch 25/47\n",
      "\u001b[1m538/538\u001b[0m \u001b[32m━━━━━━━━━━━━━━━━━━━━\u001b[0m\u001b[37m\u001b[0m \u001b[1m1s\u001b[0m 1ms/step - accuracy: 0.9729 - auc: 0.9954 - fn: 1492.8441 - fp: 2042.7719 - loss: 0.0695 - precision: 0.9288 - recall: 0.9480 - tn: 99411.6875 - tp: 26651.5820 - val_accuracy: 0.9722 - val_auc: 0.9956 - val_fn: 906.0000 - val_fp: 1484.0000 - val_loss: 0.0700 - val_precision: 0.9210 - val_recall: 0.9502 - val_tn: 66375.0000 - val_tp: 17305.0000\n",
      "Epoch 26/47\n",
      "\u001b[1m538/538\u001b[0m \u001b[32m━━━━━━━━━━━━━━━━━━━━\u001b[0m\u001b[37m\u001b[0m \u001b[1m1s\u001b[0m 1ms/step - accuracy: 0.9744 - auc: 0.9960 - fn: 1380.7719 - fp: 1943.1614 - loss: 0.0643 - precision: 0.9319 - recall: 0.9507 - tn: 99777.4062 - tp: 26497.5469 - val_accuracy: 0.9737 - val_auc: 0.9960 - val_fn: 619.0000 - val_fp: 1645.0000 - val_loss: 0.0665 - val_precision: 0.9145 - val_recall: 0.9660 - val_tn: 66214.0000 - val_tp: 17592.0000\n",
      "Epoch 27/47\n",
      "\u001b[1m538/538\u001b[0m \u001b[32m━━━━━━━━━━━━━━━━━━━━\u001b[0m\u001b[37m\u001b[0m \u001b[1m1s\u001b[0m 1ms/step - accuracy: 0.9762 - auc: 0.9965 - fn: 1327.5974 - fp: 1815.0593 - loss: 0.0607 - precision: 0.9365 - recall: 0.9535 - tn: 99981.2500 - tp: 26474.9824 - val_accuracy: 0.9752 - val_auc: 0.9966 - val_fn: 561.0000 - val_fp: 1573.0000 - val_loss: 0.0617 - val_precision: 0.9182 - val_recall: 0.9692 - val_tn: 66286.0000 - val_tp: 17650.0000\n",
      "Epoch 28/47\n",
      "\u001b[1m538/538\u001b[0m \u001b[32m━━━━━━━━━━━━━━━━━━━━\u001b[0m\u001b[37m\u001b[0m \u001b[1m1s\u001b[0m 1ms/step - accuracy: 0.9763 - auc: 0.9967 - fn: 1293.1632 - fp: 1771.3191 - loss: 0.0593 - precision: 0.9383 - recall: 0.9546 - tn: 99561.0234 - tp: 26973.3789 - val_accuracy: 0.9777 - val_auc: 0.9972 - val_fn: 543.0000 - val_fp: 1378.0000 - val_loss: 0.0552 - val_precision: 0.9276 - val_recall: 0.9702 - val_tn: 66481.0000 - val_tp: 17668.0000\n",
      "Epoch 29/47\n",
      "\u001b[1m538/538\u001b[0m \u001b[32m━━━━━━━━━━━━━━━━━━━━\u001b[0m\u001b[37m\u001b[0m \u001b[1m1s\u001b[0m 1ms/step - accuracy: 0.9772 - auc: 0.9967 - fn: 1271.2653 - fp: 1724.1614 - loss: 0.0578 - precision: 0.9398 - recall: 0.9556 - tn: 99793.7031 - tp: 26809.7598 - val_accuracy: 0.9752 - val_auc: 0.9965 - val_fn: 677.0000 - val_fp: 1458.0000 - val_loss: 0.0618 - val_precision: 0.9232 - val_recall: 0.9628 - val_tn: 66401.0000 - val_tp: 17534.0000\n",
      "Epoch 30/47\n",
      "\u001b[1m538/538\u001b[0m \u001b[32m━━━━━━━━━━━━━━━━━━━━\u001b[0m\u001b[37m\u001b[0m \u001b[1m1s\u001b[0m 1ms/step - accuracy: 0.9791 - auc: 0.9972 - fn: 1159.6493 - fp: 1571.9462 - loss: 0.0536 - precision: 0.9451 - recall: 0.9594 - tn: 99943.1406 - tp: 26924.1504 - val_accuracy: 0.9783 - val_auc: 0.9966 - val_fn: 929.0000 - val_fp: 942.0000 - val_loss: 0.0591 - val_precision: 0.9483 - val_recall: 0.9490 - val_tn: 66917.0000 - val_tp: 17282.0000\n",
      "Epoch 31/47\n",
      "\u001b[1m538/538\u001b[0m \u001b[32m━━━━━━━━━━━━━━━━━━━━\u001b[0m\u001b[37m\u001b[0m \u001b[1m1s\u001b[0m 1ms/step - accuracy: 0.9786 - auc: 0.9972 - fn: 1164.3822 - fp: 1594.8052 - loss: 0.0539 - precision: 0.9433 - recall: 0.9579 - tn: 100043.4297 - tp: 26796.2676 - val_accuracy: 0.9795 - val_auc: 0.9973 - val_fn: 858.0000 - val_fp: 903.0000 - val_loss: 0.0522 - val_precision: 0.9505 - val_recall: 0.9529 - val_tn: 66956.0000 - val_tp: 17353.0000\n",
      "Epoch 32/47\n",
      "\u001b[1m538/538\u001b[0m \u001b[32m━━━━━━━━━━━━━━━━━━━━\u001b[0m\u001b[37m\u001b[0m \u001b[1m1s\u001b[0m 1ms/step - accuracy: 0.9799 - auc: 0.9975 - fn: 1129.8275 - fp: 1505.4694 - loss: 0.0508 - precision: 0.9473 - recall: 0.9595 - tn: 100054.7031 - tp: 26908.8828 - val_accuracy: 0.9806 - val_auc: 0.9978 - val_fn: 717.0000 - val_fp: 950.0000 - val_loss: 0.0485 - val_precision: 0.9485 - val_recall: 0.9606 - val_tn: 66909.0000 - val_tp: 17494.0000\n",
      "Epoch 33/47\n",
      "\u001b[1m538/538\u001b[0m \u001b[32m━━━━━━━━━━━━━━━━━━━━\u001b[0m\u001b[37m\u001b[0m \u001b[1m1s\u001b[0m 1ms/step - accuracy: 0.9820 - auc: 0.9978 - fn: 1037.7217 - fp: 1370.5028 - loss: 0.0469 - precision: 0.9529 - recall: 0.9638 - tn: 100231.4844 - tp: 26959.1816 - val_accuracy: 0.9712 - val_auc: 0.9950 - val_fn: 421.0000 - val_fp: 2056.0000 - val_loss: 0.0825 - val_precision: 0.8964 - val_recall: 0.9769 - val_tn: 65803.0000 - val_tp: 17790.0000\n",
      "Epoch 34/47\n",
      "\u001b[1m538/538\u001b[0m \u001b[32m━━━━━━━━━━━━━━━━━━━━\u001b[0m\u001b[37m\u001b[0m \u001b[1m1s\u001b[0m 1ms/step - accuracy: 0.9806 - auc: 0.9977 - fn: 1064.2319 - fp: 1424.4286 - loss: 0.0485 - precision: 0.9497 - recall: 0.9621 - tn: 99946.9375 - tp: 27163.2852 - val_accuracy: 0.9815 - val_auc: 0.9980 - val_fn: 352.0000 - val_fp: 1242.0000 - val_loss: 0.0470 - val_precision: 0.9350 - val_recall: 0.9807 - val_tn: 66617.0000 - val_tp: 17859.0000\n",
      "Epoch 35/47\n",
      "\u001b[1m538/538\u001b[0m \u001b[32m━━━━━━━━━━━━━━━━━━━━\u001b[0m\u001b[37m\u001b[0m \u001b[1m1s\u001b[0m 1ms/step - accuracy: 0.9836 - auc: 0.9982 - fn: 935.5510 - fp: 1229.5677 - loss: 0.0425 - precision: 0.9567 - recall: 0.9672 - tn: 100562.9062 - tp: 26870.8594 - val_accuracy: 0.9811 - val_auc: 0.9980 - val_fn: 1115.0000 - val_fp: 512.0000 - val_loss: 0.0473 - val_precision: 0.9709 - val_recall: 0.9388 - val_tn: 67347.0000 - val_tp: 17096.0000\n",
      "Epoch 36/47\n",
      "\u001b[1m538/538\u001b[0m \u001b[32m━━━━━━━━━━━━━━━━━━━━\u001b[0m\u001b[37m\u001b[0m \u001b[1m1s\u001b[0m 1ms/step - accuracy: 0.9826 - auc: 0.9981 - fn: 1002.2727 - fp: 1287.5046 - loss: 0.0437 - precision: 0.9551 - recall: 0.9649 - tn: 100357.3828 - tp: 26951.7285 - val_accuracy: 0.9793 - val_auc: 0.9980 - val_fn: 1446.0000 - val_fp: 332.0000 - val_loss: 0.0536 - val_precision: 0.9806 - val_recall: 0.9206 - val_tn: 67527.0000 - val_tp: 16765.0000\n",
      "Epoch 37/47\n",
      "\u001b[1m538/538\u001b[0m \u001b[32m━━━━━━━━━━━━━━━━━━━━\u001b[0m\u001b[37m\u001b[0m \u001b[1m1s\u001b[0m 1ms/step - accuracy: 0.9832 - auc: 0.9982 - fn: 970.7458 - fp: 1174.6196 - loss: 0.0428 - precision: 0.9581 - recall: 0.9643 - tn: 100578.1016 - tp: 26875.4238 - val_accuracy: 0.9846 - val_auc: 0.9985 - val_fn: 389.0000 - val_fp: 939.0000 - val_loss: 0.0401 - val_precision: 0.9499 - val_recall: 0.9786 - val_tn: 66920.0000 - val_tp: 17822.0000\n",
      "Epoch 38/47\n",
      "\u001b[1m538/538\u001b[0m \u001b[32m━━━━━━━━━━━━━━━━━━━━\u001b[0m\u001b[37m\u001b[0m \u001b[1m1s\u001b[0m 1ms/step - accuracy: 0.9844 - auc: 0.9985 - fn: 889.4583 - fp: 1121.7458 - loss: 0.0394 - precision: 0.9599 - recall: 0.9679 - tn: 100450.1250 - tp: 27137.5547 - val_accuracy: 0.9857 - val_auc: 0.9986 - val_fn: 496.0000 - val_fp: 737.0000 - val_loss: 0.0389 - val_precision: 0.9601 - val_recall: 0.9728 - val_tn: 67122.0000 - val_tp: 17715.0000\n",
      "Epoch 39/47\n",
      "\u001b[1m538/538\u001b[0m \u001b[32m━━━━━━━━━━━━━━━━━━━━\u001b[0m\u001b[37m\u001b[0m \u001b[1m1s\u001b[0m 1ms/step - accuracy: 0.9860 - auc: 0.9987 - fn: 820.8293 - fp: 1044.7198 - loss: 0.0364 - precision: 0.9641 - recall: 0.9710 - tn: 100702.2500 - tp: 27031.0859 - val_accuracy: 0.9867 - val_auc: 0.9989 - val_fn: 582.0000 - val_fp: 565.0000 - val_loss: 0.0331 - val_precision: 0.9689 - val_recall: 0.9680 - val_tn: 67294.0000 - val_tp: 17629.0000\n",
      "Epoch 40/47\n",
      "\u001b[1m538/538\u001b[0m \u001b[32m━━━━━━━━━━━━━━━━━━━━\u001b[0m\u001b[37m\u001b[0m \u001b[1m1s\u001b[0m 1ms/step - accuracy: 0.9871 - auc: 0.9989 - fn: 772.0798 - fp: 940.3952 - loss: 0.0334 - precision: 0.9670 - recall: 0.9727 - tn: 100962.3984 - tp: 26924.0117 - val_accuracy: 0.9866 - val_auc: 0.9986 - val_fn: 572.0000 - val_fp: 578.0000 - val_loss: 0.0374 - val_precision: 0.9683 - val_recall: 0.9686 - val_tn: 67281.0000 - val_tp: 17639.0000\n",
      "Epoch 41/47\n",
      "\u001b[1m538/538\u001b[0m \u001b[32m━━━━━━━━━━━━━━━━━━━━\u001b[0m\u001b[37m\u001b[0m \u001b[1m1s\u001b[0m 1ms/step - accuracy: 0.9855 - auc: 0.9986 - fn: 845.8108 - fp: 1033.0853 - loss: 0.0368 - precision: 0.9633 - recall: 0.9699 - tn: 100684.7031 - tp: 27035.2871 - val_accuracy: 0.9819 - val_auc: 0.9985 - val_fn: 155.0000 - val_fp: 1406.0000 - val_loss: 0.0470 - val_precision: 0.9278 - val_recall: 0.9915 - val_tn: 66453.0000 - val_tp: 18056.0000\n",
      "Epoch 42/47\n",
      "\u001b[1m538/538\u001b[0m \u001b[32m━━━━━━━━━━━━━━━━━━━━\u001b[0m\u001b[37m\u001b[0m \u001b[1m1s\u001b[0m 1ms/step - accuracy: 0.9877 - auc: 0.9990 - fn: 707.9128 - fp: 886.9295 - loss: 0.0317 - precision: 0.9679 - recall: 0.9751 - tn: 100915.5547 - tp: 27088.4883 - val_accuracy: 0.9865 - val_auc: 0.9986 - val_fn: 780.0000 - val_fp: 379.0000 - val_loss: 0.0387 - val_precision: 0.9787 - val_recall: 0.9572 - val_tn: 67480.0000 - val_tp: 17431.0000\n",
      "Epoch 43/47\n",
      "\u001b[1m538/538\u001b[0m \u001b[32m━━━━━━━━━━━━━━━━━━━━\u001b[0m\u001b[37m\u001b[0m \u001b[1m1s\u001b[0m 1ms/step - accuracy: 0.9877 - auc: 0.9990 - fn: 724.8757 - fp: 853.3822 - loss: 0.0317 - precision: 0.9702 - recall: 0.9732 - tn: 100653.2031 - tp: 27367.4258 - val_accuracy: 0.9865 - val_auc: 0.9986 - val_fn: 543.0000 - val_fp: 617.0000 - val_loss: 0.0357 - val_precision: 0.9663 - val_recall: 0.9702 - val_tn: 67242.0000 - val_tp: 17668.0000\n",
      "Epoch 44/47\n",
      "\u001b[1m538/538\u001b[0m \u001b[32m━━━━━━━━━━━━━━━━━━━━\u001b[0m\u001b[37m\u001b[0m \u001b[1m1s\u001b[0m 1ms/step - accuracy: 0.9882 - auc: 0.9990 - fn: 707.2375 - fp: 824.3191 - loss: 0.0315 - precision: 0.9709 - recall: 0.9753 - tn: 100695.0469 - tp: 27372.2793 - val_accuracy: 0.9876 - val_auc: 0.9992 - val_fn: 168.0000 - val_fp: 899.0000 - val_loss: 0.0323 - val_precision: 0.9525 - val_recall: 0.9908 - val_tn: 66960.0000 - val_tp: 18043.0000\n",
      "Epoch 45/47\n",
      "\u001b[1m538/538\u001b[0m \u001b[32m━━━━━━━━━━━━━━━━━━━━\u001b[0m\u001b[37m\u001b[0m \u001b[1m1s\u001b[0m 1ms/step - accuracy: 0.9874 - auc: 0.9988 - fn: 737.6011 - fp: 868.9740 - loss: 0.0336 - precision: 0.9675 - recall: 0.9739 - tn: 100716.4531 - tp: 27275.8613 - val_accuracy: 0.9868 - val_auc: 0.9989 - val_fn: 290.0000 - val_fp: 849.0000 - val_loss: 0.0345 - val_precision: 0.9548 - val_recall: 0.9841 - val_tn: 67010.0000 - val_tp: 17921.0000\n",
      "Epoch 46/47\n",
      "\u001b[1m538/538\u001b[0m \u001b[32m━━━━━━━━━━━━━━━━━━━━\u001b[0m\u001b[37m\u001b[0m \u001b[1m1s\u001b[0m 1ms/step - accuracy: 0.9880 - auc: 0.9989 - fn: 744.4861 - fp: 815.9017 - loss: 0.0316 - precision: 0.9713 - recall: 0.9735 - tn: 100714.3828 - tp: 27324.1191 - val_accuracy: 0.9875 - val_auc: 0.9991 - val_fn: 259.0000 - val_fp: 813.0000 - val_loss: 0.0311 - val_precision: 0.9567 - val_recall: 0.9858 - val_tn: 67046.0000 - val_tp: 17952.0000\n",
      "Epoch 47/47\n",
      "\u001b[1m538/538\u001b[0m \u001b[32m━━━━━━━━━━━━━━━━━━━━\u001b[0m\u001b[37m\u001b[0m \u001b[1m1s\u001b[0m 1ms/step - accuracy: 0.9889 - auc: 0.9991 - fn: 682.4174 - fp: 759.2764 - loss: 0.0291 - precision: 0.9729 - recall: 0.9759 - tn: 100751.8906 - tp: 27405.3047 - val_accuracy: 0.9861 - val_auc: 0.9982 - val_fn: 806.0000 - val_fp: 392.0000 - val_loss: 0.0373 - val_precision: 0.9780 - val_recall: 0.9557 - val_tn: 67467.0000 - val_tp: 17405.0000\n"
     ]
    },
    {
     "data": {
      "text/plain": [
       "<keras.src.callbacks.history.History at 0x302aa25d0>"
      ]
     },
     "execution_count": 165,
     "metadata": {},
     "output_type": "execute_result"
    }
   ],
   "source": [
    "model.fit(X_train,\n",
    "          y_train,\n",
    "          batch_size=32,\n",
    "          validation_data=(X_test, y_test),\n",
    "          epochs=47)"
   ]
  },
  {
   "cell_type": "code",
   "execution_count": 166,
   "id": "c352c36d-a1f3-4421-ad16-49ff2cc67795",
   "metadata": {},
   "outputs": [
    {
     "name": "stdout",
     "output_type": "stream",
     "text": [
      "\u001b[1m180/180\u001b[0m \u001b[32m━━━━━━━━━━━━━━━━━━━━\u001b[0m\u001b[37m\u001b[0m \u001b[1m0s\u001b[0m 587us/step\n"
     ]
    }
   ],
   "source": [
    "y_pred = model.predict(X_test)"
   ]
  },
  {
   "cell_type": "code",
   "execution_count": 167,
   "id": "b1f05284-fa27-488d-a05b-7bcccf5599f9",
   "metadata": {},
   "outputs": [],
   "source": [
    "def confusion_matrix(Y_true, Y_pred):\n",
    "    Y_true = pd.Series([stations[y] for y in np.argmax(Y_true, axis=1)])\n",
    "    Y_pred = pd.Series([stations[y] for y in np.argmax(Y_pred, axis=1)])\n",
    "\n",
    "    return pd.crosstab(Y_true, Y_pred, rownames=['True'], colnames=['Pred'])"
   ]
  },
  {
   "cell_type": "code",
   "execution_count": 168,
   "id": "0e2f4f9c-8b06-4b84-a269-e989172b1203",
   "metadata": {},
   "outputs": [],
   "source": [
    "stations = {\n",
    "    0: 'BASSEL',\n",
    "    1: 'BELGRADE',\n",
    "    2: 'BUDAPEST',\n",
    "    3: 'DEBILT',\n",
    "    4: 'DUSSELDORF',\n",
    "    5: 'HEATHROW',\n",
    "    6: 'KASSEL',\n",
    "    7: 'LJUBLJANA',\n",
    "    8: 'MAASTRICHT',\n",
    "    9: 'MADRID',\n",
    "    10: 'MUNCHENB',\n",
    "    11: 'OSLO',\n",
    "    12: 'SONNBLICK',\n",
    "    13: 'STOCKHOLM',\n",
    "    14: 'VALENTIA'\n",
    "}"
   ]
  },
  {
   "cell_type": "code",
   "execution_count": 169,
   "id": "0996103f-56db-4214-abe2-db897dfa8d4a",
   "metadata": {},
   "outputs": [
    {
     "name": "stdout",
     "output_type": "stream",
     "text": [
      "\u001b[1m180/180\u001b[0m \u001b[32m━━━━━━━━━━━━━━━━━━━━\u001b[0m\u001b[37m\u001b[0m \u001b[1m0s\u001b[0m 385us/step\n",
      "Pred        BASSEL  BELGRADE  BUDAPEST  DEBILT  DUSSELDORF  HEATHROW  KASSEL  \\\n",
      "True                                                                           \n",
      "BASSEL        1234       553       324      19          54        34      16   \n",
      "BELGRADE         1       802        87      22          15         6       8   \n",
      "BUDAPEST         2         1       129       2          10         0       5   \n",
      "DEBILT           0         0         0      15          18         4       7   \n",
      "DUSSELDORF       1         0         0       0           4         3       0   \n",
      "HEATHROW         0         1         0       0           0        17       0   \n",
      "KASSEL           0         0         0       0           0         0       5   \n",
      "LJUBLJANA        1         1         0       0           0         0       0   \n",
      "MAASTRICHT       0         0         0       0           0         0       0   \n",
      "MADRID           0         1         0       0           0         0       0   \n",
      "MUNCHENB         0         0         0       0           0         0       0   \n",
      "OSLO             0         0         0       0           0         0       0   \n",
      "STOCKHOLM        0         0         0       0           0         0       0   \n",
      "VALENTIA         0         0         0       0           0         0       0   \n",
      "\n",
      "Pred        LJUBLJANA  MAASTRICHT  MADRID  MUNCHENB  OSLO  STOCKHOLM  VALENTIA  \n",
      "True                                                                            \n",
      "BASSEL            140         231     914        17    56          1        89  \n",
      "BELGRADE            2           6     140         1     1          1         0  \n",
      "BUDAPEST            4           3      55         0     2          0         1  \n",
      "DEBILT              2           3      24         1     6          2         0  \n",
      "DUSSELDORF          1           0      20         0     0          0         0  \n",
      "HEATHROW            1           0      61         0     1          0         1  \n",
      "KASSEL              0           1       5         0     0          0         0  \n",
      "LJUBLJANA          22           0      35         0     1          0         1  \n",
      "MAASTRICHT          0           6       1         1     0          0         1  \n",
      "MADRID              0           0     457         0     0          0         0  \n",
      "MUNCHENB            0           0       0         7     1          0         0  \n",
      "OSLO                0           0       0         0     5          0         0  \n",
      "STOCKHOLM           0           0       0         0     0          4         0  \n",
      "VALENTIA            0           0       0         0     0          0         1  \n"
     ]
    }
   ],
   "source": [
    "# Evaluate\n",
    "print(confusion_matrix(y_test, model.predict(X_test)))"
   ]
  }
 ],
 "metadata": {
  "kernelspec": {
   "display_name": "Python 3 (ipykernel)",
   "language": "python",
   "name": "python3"
  },
  "language_info": {
   "codemirror_mode": {
    "name": "ipython",
    "version": 3
   },
   "file_extension": ".py",
   "mimetype": "text/x-python",
   "name": "python",
   "nbconvert_exporter": "python",
   "pygments_lexer": "ipython3",
   "version": "3.12.4"
  }
 },
 "nbformat": 4,
 "nbformat_minor": 5
}
